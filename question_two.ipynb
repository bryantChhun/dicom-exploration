{
 "cells": [
  {
   "cell_type": "markdown",
   "metadata": {},
   "source": [
    "# Description:\n",
    "\n",
    "A notebook working through data exploration to answer the question:\n",
    "\n",
    "\"Do you think that any other heuristic (non-machine learning)-based approaches, besides simple thresholding, would work in this case? Explain.\"\n"
   ]
  },
  {
   "cell_type": "markdown",
   "metadata": {},
   "source": []
  },
  {
   "cell_type": "markdown",
   "metadata": {},
   "source": [
    "Other heuristics could be size/shape related, or something more complicated related to information content, fourier information, resolution, contrast.\n",
    "\n",
    "- Regarding Size/Shape methods: Based on visual inspection and the nature of MRI images, I would expect these methods to have similar or worse distributions than those we saw with thresholding.  See workup below\n",
    "\n",
    "- Regarding contrast/resolution methods:  These will still depend on pixel intensities and might help as a preprocessing step before thresholding.  However, It'd be surprising if they can increase the F1 score from 0.4 to greater than 0.9!"
   ]
  },
  {
   "cell_type": "markdown",
   "metadata": {},
   "source": [
    "If we explore contrast/resolution methods further, we have to first ask \"what is the cause of the broad intensity distribution\"?  Is it noise?  Is it a natural part of the image?\n",
    "\n",
    "If the answer is the latter (for example, if plaques or other blood-components generate different intensities in MRI images), then only more labeled training data could help.  If the answer is the former, then contrast/resolution methods absolutely could help.  One could even consider a preprocessing step, and could try methods like watershedding, sobel filtering, denoising methods, on top of thresholding."
   ]
  },
  {
   "cell_type": "code",
   "execution_count": 3,
   "metadata": {},
   "outputs": [],
   "source": [
    "imgs, i_msk, o_msk = load_data.load_all_patients('./final_data')"
   ]
  },
  {
   "cell_type": "markdown",
   "metadata": {},
   "source": [
    "Below is some quick code to show how size of the segmented region might not work so well as a heuristic."
   ]
  },
  {
   "cell_type": "code",
   "execution_count": 18,
   "metadata": {},
   "outputs": [
    {
     "name": "stdout",
     "output_type": "stream",
     "text": [
      "num of o-masks = 46\nmin num of pixels = 344\nmax num of pixels = 3395\n"
     ]
    },
    {
     "data": {
      "image/png": "[encoded data removed]",
      "text/plain": [
       "<matplotlib.figure.Figure at 0x1204b5470>"
      ]
     },
     "metadata": {},
     "output_type": "display_data"
    }
   ],
   "source": [
    "# simply count number of pixels in the mask as a metric for size\n",
    "nonzero = [np.count_nonzero(element) for element in o_msk if type(element) != type(None)]\n",
    "print(\"num of o-masks = \"+str(len(nonzero)))\n",
    "print(\"min num of pixels = \"+str(np.min(nonzero)))\n",
    "print(\"max num of pixels = \"+str(np.max(nonzero)))\n",
    "\n",
    "out = np.asarray(nonzero)\n",
    "\n",
    "plt.hist(out.ravel(), bins=10, range=(np.min(nonzero), np.max(nonzero)))\n",
    "plt.xlabel('number of nonzero pixels in outer contour mask')\n",
    "plt.ylabel('counts')\n",
    "plt.title('distribution of nonzero pixels in OUTER mask over all data')\n",
    "plt.show()\n"
   ]
  },
  {
   "cell_type": "code",
   "execution_count": 21,
   "metadata": {},
   "outputs": [
    {
     "name": "stdout",
     "output_type": "stream",
     "text": [
      "num of i-masks = 96\nmin num of pixels = 62\nmax num of pixels = 2289\n"
     ]
    },
    {
     "data": {
      "image/png": "[encoded data removed]",
      "text/plain": [
       "<matplotlib.figure.Figure at 0x12049b358>"
      ]
     },
     "metadata": {},
     "output_type": "display_data"
    }
   ],
   "source": [
    "# simply count number of pixels in the mask as a metric for size\n",
    "nonzero = [np.count_nonzero(element) for element in i_msk if type(element) != type(None)]\n",
    "print(\"num of i-masks = \"+str(len(nonzero)))\n",
    "print(\"min num of pixels = \"+str(np.min(nonzero)))\n",
    "print(\"max num of pixels = \"+str(np.max(nonzero)))\n",
    "\n",
    "out = np.asarray(nonzero)\n",
    "\n",
    "plt.hist(out.ravel(), bins=10, range=(np.min(nonzero), np.max(nonzero)))\n",
    "plt.xlabel('number of nonzero pixels in outer contour mask')\n",
    "plt.ylabel('counts')\n",
    "plt.title('distribution of nonzero pixels in INNER mask over all data')\n",
    "plt.show()\n"
   ]
  },
  {
   "cell_type": "code",
   "execution_count": null,
   "metadata": {},
   "outputs": [],
   "source": []
  }
 ],
 "metadata": {
  "language": "python"
 },
 "nbformat": 4,
 "nbformat_minor": 2
}
